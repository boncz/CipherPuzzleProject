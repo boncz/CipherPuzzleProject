{
 "cells": [
  {
   "attachments": {},
   "cell_type": "markdown",
   "id": "9247748d",
   "metadata": {},
   "source": [
    "# project goal:\n",
    "## use python to decipher messages and encode your own responses\n",
    "###  read the premise below:\n",
    "Hey there! How have you been? I've been great! I just learned about this really cool type of cipher called a Caesar Cipher. Here's how it works: You take your message, something like \"hello\" and then you shift all of the letters by a certain offset. \n",
    "\n",
    "   For example, if I chose an offset of 3 and a message of \"hello\", I would encode my message by shifting each letter 3 places to the left with respect to the alphabet. So \"h\" becomes \"e\", \"e\" becomes \"b\", \"l\" becomes \"i\", and \"o\" becomes \"l\". Then I have my encoded message, \"ebiil\"! Now I can send you my message and the offset and you can decode it by shifting each letter 3 places to the right. The best thing is that Julius Caesar himself used this cipher, that's why it's called the Caesar Cipher! Isn't that so cool! Okay, now I'm going to send you a longer encoded message that you have to decode yourself!\n",
    "    \n",
    "   xuo jxuhu! jxyi yi qd unqcfbu ev q squiqh syfxuh. muhu oek qrbu je tusetu yj? y xefu ie! iudt cu q cuiiqwu rqsa myjx jxu iqcu evviuj!\n",
    "    \n",
    "   This message has an offset of 10. Can you decode it?"
   ]
  },
  {
   "cell_type": "code",
   "execution_count": 2,
   "id": "3e5a94ab",
   "metadata": {},
   "outputs": [],
   "source": [
    "encoded_message = \"xuo jxuhu! jxyi yi qd unqcfbu ev q squiqh syfxuh. muhu oek qrbu je tusetu yj? y xefu ie! iudt cu q cuiiqwu rqsa myjx jxu iqcu evviuj!\""
   ]
  },
  {
   "cell_type": "code",
   "execution_count": 3,
   "id": "acb79d5d",
   "metadata": {},
   "outputs": [],
   "source": [
    "alphabet = \"abcdefghijklmnopqrstuvwxyz\"\n",
    "    "
   ]
  },
  {
   "cell_type": "code",
   "execution_count": 4,
   "id": "8a98d985",
   "metadata": {},
   "outputs": [],
   "source": [
    "def caesar_decode(message,offset):\n",
    "    alphabet = 'abcdefghijklmnopqrstuvwxyz'\n",
    "    decoded_message = ''\n",
    "    message = message.lower()\n",
    "    for char in message:\n",
    "        if char in alphabet:\n",
    "            index = alphabet.find(char)\n",
    "            new_index = index + offset + 1\n",
    "            if new_index > 26:\n",
    "                new_index = new_index%26\n",
    "            new_char = alphabet[new_index-1]\n",
    "            decoded_message+=new_char\n",
    "        else:\n",
    "            decoded_message+=char\n",
    "    return decoded_message"
   ]
  },
  {
   "cell_type": "code",
   "execution_count": 5,
   "id": "6ba1a05c",
   "metadata": {},
   "outputs": [
    {
     "data": {
      "text/plain": [
       "'hey there! this is an example of a caesar cipher. were you able to decode it? i hope so! send me a message back with the same offset!'"
      ]
     },
     "execution_count": 5,
     "metadata": {},
     "output_type": "execute_result"
    }
   ],
   "source": [
    "caesar_decode(\"xuo jxuhu! jxyi yi qd unqcfbu ev q squiqh syfxuh. muhu oek qrbu je tusetu yj? y xefu ie! iudt cu q cuiiqwu rqsa myjx jxu iqcu evviuj!\",10)"
   ]
  },
  {
   "attachments": {},
   "cell_type": "markdown",
   "id": "1303b817",
   "metadata": {},
   "source": [
    "Now send a message back using the same cipher offset:"
   ]
  },
  {
   "cell_type": "code",
   "execution_count": 6,
   "id": "2cd92359",
   "metadata": {},
   "outputs": [],
   "source": [
    "def caesar_encode(message,offset):\n",
    "    alphabet = 'abcdefghijklmnopqrstuvwxyz'\n",
    "    message = message.lower()\n",
    "    encoded_message = ''\n",
    "    for char in message:\n",
    "        if char in alphabet:\n",
    "            index = alphabet.find(char)\n",
    "            new_index = index - offset - 1\n",
    "            if new_index < 0:\n",
    "                new_index = new_index-4\n",
    "            new_char = alphabet[new_index-1]\n",
    "            encoded_message+=new_char\n",
    "        else:\n",
    "            encoded_message+=char\n",
    "    return encoded_message"
   ]
  },
  {
   "cell_type": "code",
   "execution_count": 7,
   "id": "cc93c781",
   "metadata": {},
   "outputs": [
    {
     "data": {
      "text/plain": [
       "'rozzc! sg hrofo kbmlcnm cih hrofo? : )'"
      ]
     },
     "execution_count": 7,
     "metadata": {},
     "output_type": "execute_result"
    }
   ],
   "source": [
    "caesar_encode(\"Hello! Is there anybody out there? : )\",10)"
   ]
  },
  {
   "attachments": {},
   "cell_type": "markdown",
   "id": "73d44274",
   "metadata": {},
   "source": [
    "You are given two more messages. The first uses the same cipher of 10, and contains a hint for decoding the second message."
   ]
  },
  {
   "cell_type": "code",
   "execution_count": 8,
   "id": "af0ac7ec",
   "metadata": {},
   "outputs": [],
   "source": [
    "first_message = \"jxu evviuj veh jxu iusedt cuiiqwu yi vekhjuud.\"\n",
    "second_message = \"bqdradyuzs ygxfubxq omqemd oubtqde fa oapq kagd yqeemsqe ue qhqz yadq eqogdq!\""
   ]
  },
  {
   "cell_type": "code",
   "execution_count": 9,
   "id": "a2ba0b3c",
   "metadata": {},
   "outputs": [
    {
     "data": {
      "text/plain": [
       "'the offset for the second message is fourteen.'"
      ]
     },
     "execution_count": 9,
     "metadata": {},
     "output_type": "execute_result"
    }
   ],
   "source": [
    "caesar_decode(first_message,10)"
   ]
  },
  {
   "cell_type": "code",
   "execution_count": 10,
   "id": "fd72c57d",
   "metadata": {},
   "outputs": [
    {
     "data": {
      "text/plain": [
       "'performing multiple caesar ciphers to code your messages is even more secure!'"
      ]
     },
     "execution_count": 10,
     "metadata": {},
     "output_type": "execute_result"
    }
   ],
   "source": [
    "caesar_decode(second_message,14)"
   ]
  },
  {
   "attachments": {},
   "cell_type": "markdown",
   "id": "bb1e9025",
   "metadata": {},
   "source": [
    "Next Premise: you are given a coded message that uses the caesar cipher with an unkown offset, use brute force to crack it."
   ]
  },
  {
   "cell_type": "code",
   "execution_count": 11,
   "id": "78d990d3",
   "metadata": {},
   "outputs": [],
   "source": [
    "unknown_shift_message = \"vhfinmxkl atox kxgwxkxw tee hy maxlx hew vbiaxkl hulhexmx. px'ee atox mh kxteer lmxi ni hnk ztfx by px ptgm mh dxxi hnk fxlltzxl ltyx.\""
   ]
  },
  {
   "cell_type": "code",
   "execution_count": 12,
   "id": "50c0b31f",
   "metadata": {},
   "outputs": [
    {
     "name": "stdout",
     "output_type": "stream",
     "text": [
      "wigjonylm bupy lyhxylyx uff iz nbymy ifx wcjbylm ivmifyny. qy'ff bupy ni lyuffs mnyj oj iol augy cz qy quhn ni eyyj iol gymmuaym muzy.\n",
      "xjhkpozmn cvqz mziyzmzy vgg ja ocznz jgy xdkczmn jwnjgzoz. rz'gg cvqz oj mzvggt nozk pk jpm bvhz da rz rvio oj fzzk jpm hznnvbzn nvaz.\n",
      "ykilqpano dwra najzanaz whh kb pdaoa khz yeldano kxokhapa. sa'hh dwra pk nawhhu opal ql kqn cwia eb sa swjp pk gaal kqn iaoowcao owba.\n",
      "zljmrqbop exsb obkaboba xii lc qebpb lia zfmebop lyplibqb. tb'ii exsb ql obxiiv pqbm rm lro dxjb fc tb txkq ql hbbm lro jbppxdbp pxcb.\n",
      "amknsrcpq fytc pclbcpcb yjj md rfcqc mjb agnfcpq mzqmjcrc. uc'jj fytc rm pcyjjw qrcn sn msp eykc gd uc uylr rm iccn msp kcqqyecq qydc.\n",
      "bnlotsdqr gzud qdmcdqdc zkk ne sgdrd nkc bhogdqr narnkdsd. vd'kk gzud sn qdzkkx rsdo to ntq fzld he vd vzms sn jddo ntq ldrrzfdr rzed.\n",
      "computers have rendered all of these old ciphers obsolete. we'll have to really step up our game if we want to keep our messages safe.\n",
      "dpnqvufst ibwf sfoefsfe bmm pg uiftf pme djqifst pctpmfuf. xf'mm ibwf up sfbmmz tufq vq pvs hbnf jg xf xbou up lffq pvs nfttbhft tbgf.\n",
      "eqorwvgtu jcxg tgpfgtgf cnn qh vjgug qnf ekrjgtu qduqngvg. yg'nn jcxg vq tgcnna uvgr wr qwt icog kh yg ycpv vq mggr qwt oguucigu uchg.\n",
      "frpsxwhuv kdyh uhqghuhg doo ri wkhvh rog flskhuv revrohwh. zh'oo kdyh wr uhdoob vwhs xs rxu jdph li zh zdqw wr nhhs rxu phvvdjhv vdih.\n",
      "gsqtyxivw lezi virhivih epp sj xliwi sph gmtlivw sfwspixi. ai'pp lezi xs vieppc wxit yt syv keqi mj ai aerx xs oiit syv qiwwekiw weji.\n",
      "htruzyjwx mfaj wjsijwji fqq tk ymjxj tqi hnumjwx tgxtqjyj. bj'qq mfaj yt wjfqqd xyju zu tzw lfrj nk bj bfsy yt pjju tzw rjxxfljx xfkj.\n",
      "iusvazkxy ngbk xktjkxkj grr ul znkyk urj iovnkxy uhyurkzk. ck'rr ngbk zu xkgrre yzkv av uax mgsk ol ck cgtz zu qkkv uax skyygmky yglk.\n",
      "jvtwbalyz ohcl yluklylk hss vm aolzl vsk jpwolyz vizvslal. dl'ss ohcl av ylhssf zalw bw vby nhtl pm dl dhua av rllw vby tlzzhnlz zhml.\n",
      "kwuxcbmza pidm zmvlmzml itt wn bpmam wtl kqxpmza wjawtmbm. em'tt pidm bw zmittg abmx cx wcz oium qn em eivb bw smmx wcz umaaioma ainm.\n",
      "lxvydcnab qjen anwmnanm juu xo cqnbn xum lryqnab xkbxuncn. fn'uu qjen cx anjuuh bcny dy xda pjvn ro fn fjwc cx tnny xda vnbbjpnb bjon.\n",
      "mywzedobc rkfo boxnobon kvv yp droco yvn mszrobc ylcyvodo. go'vv rkfo dy bokvvi cdoz ez yeb qkwo sp go gkxd dy uooz yeb wocckqoc ckpo.\n",
      "nzxafepcd slgp cpyopcpo lww zq espdp zwo ntaspcd zmdzwpep. hp'ww slgp ez cplwwj depa fa zfc rlxp tq hp hlye ez vppa zfc xpddlrpd dlqp.\n",
      "oaybgfqde tmhq dqzpqdqp mxx ar ftqeq axp oubtqde aneaxqfq. iq'xx tmhq fa dqmxxk efqb gb agd smyq ur iq imzf fa wqqb agd yqeemsqe emrq.\n",
      "pbzchgref unir eraqrerq nyy bs gurfr byq pvcuref bofbyrgr. jr'yy unir gb ernyyl fgrc hc bhe tnzr vs jr jnag gb xrrc bhe zrffntrf fnsr.\n",
      "qcadihsfg vojs fsbrsfsr ozz ct hvsgs czr qwdvsfg cpgczshs. ks'zz vojs hc fsozzm ghsd id cif uoas wt ks kobh hc yssd cif asggousg gots.\n",
      "rdbejitgh wpkt gtcstgts paa du iwtht das rxewtgh dqhdatit. lt'aa wpkt id gtpaan hite je djg vpbt xu lt lpci id ztte djg bthhpvth hput.\n",
      "secfkjuhi xqlu hudtuhut qbb ev jxuiu ebt syfxuhi eriebuju. mu'bb xqlu je huqbbo ijuf kf ekh wqcu yv mu mqdj je auuf ekh cuiiqwui iqvu.\n",
      "tfdglkvij yrmv iveuvivu rcc fw kyvjv fcu tzgyvij fsjfcvkv. nv'cc yrmv kf ivrccp jkvg lg fli xrdv zw nv nrek kf bvvg fli dvjjrxvj jrwv.\n",
      "ugehmlwjk zsnw jwfvwjwv sdd gx lzwkw gdv uahzwjk gtkgdwlw. ow'dd zsnw lg jwsddq klwh mh gmj ysew ax ow osfl lg cwwh gmj ewkksywk ksxw.\n"
     ]
    }
   ],
   "source": [
    "for num in range(1,26):\n",
    "    print(caesar_decode(unknown_shift_message,num))\n",
    "    "
   ]
  },
  {
   "cell_type": "code",
   "execution_count": 13,
   "id": "2cec6ed3",
   "metadata": {},
   "outputs": [
    {
     "name": "stdout",
     "output_type": "stream",
     "text": [
      "computers have rendered all of these old ciphers obsolete. we'll have to really step up our game if we want to keep our messages safe.\n"
     ]
    }
   ],
   "source": [
    "print(caesar_decode(unknown_shift_message,7))"
   ]
  },
  {
   "attachments": {},
   "cell_type": "markdown",
   "id": "f308da7a",
   "metadata": {},
   "source": [
    "Through brute force we found that the offset was 7."
   ]
  },
  {
   "attachments": {},
   "cell_type": "markdown",
   "id": "6bab2e9c",
   "metadata": {},
   "source": [
    "For the next message, a vigenere cipher is used.\n",
    "\n",
    "The Vigenère Cipher is a polyalphabetic substitution cipher, as opposed to the Caesar Cipher which was a monoalphabetic substitution cipher. What this means is that opposed to having a single shift that is applied to every letter, the Vigenère Cipher has a different shift for each individual letter. The value of the shift for each letter is determined by a given keyword.\n",
    "\n",
    "We are given a message, and the keyword to decode is: friends"
   ]
  },
  {
   "cell_type": "code",
   "execution_count": 121,
   "id": "84e01f3a",
   "metadata": {},
   "outputs": [
    {
     "name": "stdout",
     "output_type": "stream",
     "text": [
      "you were able to decode this? nice work! you are becoming quite the expert at crytography!\n"
     ]
    }
   ],
   "source": [
    "\n",
    "v_cipher_message = \"txm srom vkda gl lzlgzr qpdb? fepb ejac! ubr imn tapludwy mhfbz cza ruxzal wg zztcgcexxch!\"\n",
    "keyword =\"friends\"\n",
    "\n",
    "def vigenere_decoder(message, keyword):\n",
    "    alphabet = \"abcdefghijklmnopqrstuvwxyz\"\n",
    "    keyword_message_match = \"\"\n",
    "    decoded_message = \"\"\n",
    "    message_with_punctuation = message\n",
    "    for character in string.punctuation:\n",
    "        message = message.replace(character, '')\n",
    "    no_space_message = message.replace(\" \",\"\")\n",
    "    repeat = int((len(no_space_message)/len(keyword)))\n",
    "    extra = repeat % len(keyword) - 1\n",
    "    keyword_message_match = keyword*repeat\n",
    "    for i in range(extra):\n",
    "        keyword_message_match += keyword[i]\n",
    "    offsets = []\n",
    "    for i in range(len(no_space_message)):\n",
    "            offsets.append(alphabet.index(keyword_message_match[i]))\n",
    "    count = 0\n",
    "    for char in message_with_punctuation:\n",
    "        if char in alphabet:\n",
    "            index = alphabet.index(char)\n",
    "            new_index = index + offsets[count]\n",
    "            if new_index > 25:\n",
    "                 new_index = new_index % 26\n",
    "            new_char = alphabet[new_index]\n",
    "            decoded_message += new_char\n",
    "            count += 1\n",
    "        else:\n",
    "            decoded_message += char\n",
    "    return decoded_message\n",
    "\n",
    "print(vigenere_decoder(v_cipher_message,keyword))\n",
    "\n"
   ]
  },
  {
   "cell_type": "code",
   "execution_count": null,
   "id": "57c22313",
   "metadata": {},
   "outputs": [],
   "source": []
  },
  {
   "cell_type": "code",
   "execution_count": null,
   "id": "8cf7d2e7",
   "metadata": {},
   "outputs": [],
   "source": []
  }
 ],
 "metadata": {
  "kernelspec": {
   "display_name": "Python 3 (ipykernel)",
   "language": "python",
   "name": "python3"
  },
  "language_info": {
   "codemirror_mode": {
    "name": "ipython",
    "version": 3
   },
   "file_extension": ".py",
   "mimetype": "text/x-python",
   "name": "python",
   "nbconvert_exporter": "python",
   "pygments_lexer": "ipython3",
   "version": "3.10.9"
  }
 },
 "nbformat": 4,
 "nbformat_minor": 5
}
