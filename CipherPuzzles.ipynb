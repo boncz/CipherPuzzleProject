{
 "cells": [
  {
   "cell_type": "markdown",
   "id": "9247748d",
   "metadata": {},
   "source": [
    "# project goal:\n",
    "## use python to decipher messages and encode your own responses\n",
    "###  read the premise below:\n",
    "Hey there! How have you been? I've been great! I just learned about this really cool type of cipher called a Caesar Cipher. Here's how it works: You take your message, something like \"hello\" and then you shift all of the letters by a certain offset. \n",
    "\n",
    "   For example, if I chose an offset of 3 and a message of \"hello\", I would encode my message by shifting each letter 3 places to the left with respect to the alphabet. So \"h\" becomes \"e\", \"e\" becomes \"b\", \"l\" becomes \"i\", and \"o\" becomes \"l\". Then I have my encoded message, \"ebiil\"! Now I can send you my message and the offset and you can decode it by shifting each letter 3 places to the right. The best thing is that Julius Caesar himself used this cipher, that's why it's called the Caesar Cipher! Isn't that so cool! Okay, now I'm going to send you a longer encoded message that you have to decode yourself!\n",
    "    \n",
    "   xuo jxuhu! jxyi yi qd unqcfbu ev q squiqh syfxuh. muhu oek qrbu je tusetu yj? y xefu ie! iudt cu q cuiiqwu rqsa myjx jxu iqcu evviuj!\n",
    "    \n",
    "   This message has an offset of 10. Can you decode it?"
   ]
  },
  {
   "cell_type": "code",
   "execution_count": 35,
   "id": "3e5a94ab",
   "metadata": {},
   "outputs": [],
   "source": [
    "encoded_message = \"xuo jxuhu! jxyi yi qd unqcfbu ev q squiqh syfxuh. muhu oek qrbu je tusetu yj? y xefu ie! iudt cu q cuiiqwu rqsa myjx jxu iqcu evviuj!\""
   ]
  },
  {
   "cell_type": "code",
   "execution_count": 36,
   "id": "acb79d5d",
   "metadata": {},
   "outputs": [],
   "source": [
    "alphabet = \"abcdefghijklmnopqrstuvwxyz\"\n",
    "    "
   ]
  },
  {
   "cell_type": "code",
   "execution_count": 56,
   "id": "8a98d985",
   "metadata": {},
   "outputs": [],
   "source": [
    "def caesar_decode(message,offset):\n",
    "    alphabet = 'abcdefghijklmnopqrstuvwxyz'\n",
    "    decoded_message = ''\n",
    "    message = message.lower()\n",
    "    for char in message:\n",
    "        if char in alphabet:\n",
    "            index = alphabet.find(char)\n",
    "            new_index = index + offset + 1\n",
    "            if new_index > 26:\n",
    "                new_index = new_index%26\n",
    "            new_char = alphabet[new_index-1]\n",
    "            decoded_message+=new_char\n",
    "        else:\n",
    "            decoded_message+=char\n",
    "    return decoded_message"
   ]
  },
  {
   "cell_type": "code",
   "execution_count": 57,
   "id": "6ba1a05c",
   "metadata": {},
   "outputs": [
    {
     "data": {
      "text/plain": [
       "'hey there! this is an example of a caesar cipher. were you able to decode it? i hope so! send me a message back with the same offset!'"
      ]
     },
     "execution_count": 57,
     "metadata": {},
     "output_type": "execute_result"
    }
   ],
   "source": [
    "caesar_decode(\"xuo jxuhu! jxyi yi qd unqcfbu ev q squiqh syfxuh. muhu oek qrbu je tusetu yj? y xefu ie! iudt cu q cuiiqwu rqsa myjx jxu iqcu evviuj!\",10)"
   ]
  },
  {
   "cell_type": "markdown",
   "id": "1303b817",
   "metadata": {},
   "source": [
    "Now send a message back using the same cipher offset:"
   ]
  },
  {
   "cell_type": "code",
   "execution_count": 63,
   "id": "2cd92359",
   "metadata": {},
   "outputs": [],
   "source": [
    "def caesar_encode(message,offset):\n",
    "    alphabet = 'abcdefghijklmnopqrstuvwxyz'\n",
    "    message = message.lower()\n",
    "    encoded_message = ''\n",
    "    for char in message:\n",
    "        if char in alphabet:\n",
    "            index = alphabet.find(char)\n",
    "            new_index = index - offset - 1\n",
    "            if new_index < 0:\n",
    "                new_index = new_index-4\n",
    "            new_char = alphabet[new_index-1]\n",
    "            encoded_message+=new_char\n",
    "        else:\n",
    "            encoded_message+=char\n",
    "    return encoded_message"
   ]
  },
  {
   "cell_type": "code",
   "execution_count": 64,
   "id": "cc93c781",
   "metadata": {},
   "outputs": [
    {
     "data": {
      "text/plain": [
       "'rozzc! sg hrofo kbmlcnm cih hrofo? : )'"
      ]
     },
     "execution_count": 64,
     "metadata": {},
     "output_type": "execute_result"
    }
   ],
   "source": [
    "caesar_encode(\"Hello! Is there anybody out there? : )\",10)"
   ]
  },
  {
   "cell_type": "markdown",
   "id": "73d44274",
   "metadata": {},
   "source": [
    "You are given two more messages. The first uses the same cipher of 10, and contains a hint for decoding the second message."
   ]
  },
  {
   "cell_type": "code",
   "execution_count": 47,
   "id": "af0ac7ec",
   "metadata": {},
   "outputs": [],
   "source": [
    "first_message = \"jxu evviuj veh jxu iusedt cuiiqwu yi vekhjuud.\"\n",
    "second_message = \"bqdradyuzs ygxfubxq omqemd oubtqde fa oapq kagd yqeemsqe ue qhqz yadq eqogdq!\""
   ]
  },
  {
   "cell_type": "code",
   "execution_count": 65,
   "id": "a2ba0b3c",
   "metadata": {},
   "outputs": [
    {
     "data": {
      "text/plain": [
       "'the offset for the second message is fourteen.'"
      ]
     },
     "execution_count": 65,
     "metadata": {},
     "output_type": "execute_result"
    }
   ],
   "source": [
    "caesar_decode(first_message,10)"
   ]
  },
  {
   "cell_type": "code",
   "execution_count": 66,
   "id": "fd72c57d",
   "metadata": {},
   "outputs": [
    {
     "data": {
      "text/plain": [
       "'performing multiple caesar ciphers to code your messages is even more secure!'"
      ]
     },
     "execution_count": 66,
     "metadata": {},
     "output_type": "execute_result"
    }
   ],
   "source": [
    "caesar_decode(second_message,14)"
   ]
  },
  {
   "cell_type": "code",
   "execution_count": null,
   "id": "34da2d39",
   "metadata": {},
   "outputs": [],
   "source": []
  }
 ],
 "metadata": {
  "kernelspec": {
   "display_name": "Python 3 (ipykernel)",
   "language": "python",
   "name": "python3"
  },
  "language_info": {
   "codemirror_mode": {
    "name": "ipython",
    "version": 3
   },
   "file_extension": ".py",
   "mimetype": "text/x-python",
   "name": "python",
   "nbconvert_exporter": "python",
   "pygments_lexer": "ipython3",
   "version": "3.10.11"
  }
 },
 "nbformat": 4,
 "nbformat_minor": 5
}
